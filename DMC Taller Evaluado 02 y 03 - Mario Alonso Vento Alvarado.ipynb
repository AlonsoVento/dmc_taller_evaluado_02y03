{
 "cells": [
  {
   "cell_type": "markdown",
   "metadata": {
    "application/vnd.databricks.v1+cell": {
     "cellMetadata": {},
     "inputWidgets": {},
     "nuid": "0c6fdeac-858c-402c-8412-bdb661c418a2",
     "showTitle": false,
     "tableResultSettingsMap": {},
     "title": ""
    }
   },
   "source": [
    "##Taller Evaluado 02 Y 03\n",
    "####- Estudiante: Mario Alonso Vento Alvarado\n",
    "**Objetivo:** Diseñar y ejecutar un pipeline en Databricks que ingeste, limpie, transforme, una y agregue datos relevantes para su industria elegida, persista resultados en Delta + Unity Catalog, y genere una tabla de auditoría con trazabilidad de la ejecución (origen, conteos y marcas de tiempo)."
   ]
  },
  {
   "cell_type": "markdown",
   "metadata": {
    "application/vnd.databricks.v1+cell": {
     "cellMetadata": {},
     "inputWidgets": {},
     "nuid": "fe2d2009-1cb6-4ea9-ae47-9a9f65598790",
     "showTitle": false,
     "tableResultSettingsMap": {},
     "title": ""
    }
   },
   "source": [
    "### 1. Ingesta y perfilado inicial.\n",
    "- Lectura de 3–4 datasets (p. ej., clientes, transacciones, catálogo/productos, sucursales, etc.).\n",
    "- Validar esquema, nulos, rangos de fechas, duplicados.\n",
    "\n",
    "Busqué DataSets en la página [KAGGLE](https://www.kaggle.com/) y obtuve los **datasets del monitoreo de la calidad del aire en Seúl, Corea del Sur**, y proporciona un caso práctico para analizar los niveles de contaminación en diferentes distritos a lo largo del tiempo. El dataset principal, `Measurement_summary.csv`, contiene mediciones horarias de contaminantes clave como SO2, NO2, CO, O3, PM10 y PM2.5, recolectadas desde enero de 2017 hasta diciembre de 2018. Para enriquecer este análisis, se incluyen dos datasets de apoyo: `Measurement_station_info.csv`, que proporciona detalles geográficos y de ubicación de las 25 estaciones de monitoreo, y `Measurement_item_info.csv`, que describe los códigos de los ítems de medición y los umbrales de calidad del aire asociados a cada contaminante. En conjunto, estos archivos permiten un perfilado de datos integral y la ingesta de un modelo de datos relacional.\n",
    "\n",
    "El enlace del DataSet en mención es: [Air Pollution in Seoul](https://www.kaggle.com/datasets/bappekim/air-pollution-in-seoul)."
   ]
  },
  {
   "cell_type": "code",
   "execution_count": 0,
   "metadata": {
    "application/vnd.databricks.v1+cell": {
     "cellMetadata": {
      "byteLimit": 2048000,
      "rowLimit": 10000
     },
     "inputWidgets": {},
     "nuid": "c95768ff-e84d-49fd-a42b-aaff5e3933d3",
     "showTitle": false,
     "tableResultSettingsMap": {},
     "title": ""
    }
   },
   "outputs": [],
   "source": [
    "catalog = \"dmc_taller02y03\"\n",
    "schema_name = \"gold_airpollutionseoul\"\n",
    "\n",
    "spark.sql(f\"CREATE CATALOG IF NOT EXISTS {catalog}\")\n",
    "spark.sql(f\"CREATE SCHEMA IF NOT EXISTS {catalog}.{schema_name}\")"
   ]
  },
  {
   "cell_type": "code",
   "execution_count": 0,
   "metadata": {
    "application/vnd.databricks.v1+cell": {
     "cellMetadata": {
      "byteLimit": 2048000,
      "rowLimit": 10000
     },
     "inputWidgets": {},
     "nuid": "be74d946-1095-497d-875a-7b3061f0debe",
     "showTitle": false,
     "tableResultSettingsMap": {},
     "title": ""
    }
   },
   "outputs": [],
   "source": [
    "path_mediciones = \"/Volumes/dmc_taller02y03/gold_airpollutionseoul/source/csv/Measurement_info.csv\"\n",
    "path_unidades_medida = \"/Volumes/dmc_taller02y03/gold_airpollutionseoul/source/csv/Measurement_item_info.csv\"\n",
    "path_estaciones = \"/Volumes/dmc_taller02y03/gold_airpollutionseoul/source/csv/Measurement_station_info.csv\"\n",
    "\n",
    "df_mediciones = spark.read.option(\"header\", True).option(\"inferSchema\", True).csv(path_mediciones)\n",
    "df_unidades_medida = spark.read.option(\"header\", True).option(\"inferSchema\", True).csv(path_unidades_medida)\n",
    "df_estaciones = spark.read.option(\"header\", True).option(\"inferSchema\", True).csv(path_estaciones)"
   ]
  },
  {
   "cell_type": "markdown",
   "metadata": {
    "application/vnd.databricks.v1+cell": {
     "cellMetadata": {},
     "inputWidgets": {},
     "nuid": "b1f29bdf-46c7-456d-a3d1-80fd789d1ffb",
     "showTitle": false,
     "tableResultSettingsMap": {},
     "title": ""
    }
   },
   "source": [
    "###2. Limpieza y normalización\n",
    "- Eliminar/Corregir registros inválidos (nulos en claves, precios/cantidades negativas o cero, fechas inválidas, emails mal formados, etc.).\n",
    "- Normalizar strings (trim, lower, regex si aplica) y cast de tipos."
   ]
  },
  {
   "cell_type": "code",
   "execution_count": 0,
   "metadata": {
    "application/vnd.databricks.v1+cell": {
     "cellMetadata": {
      "byteLimit": 2048000,
      "rowLimit": 10000
     },
     "inputWidgets": {},
     "nuid": "601f9843-d3e3-4983-b764-76213e311a9a",
     "showTitle": false,
     "tableResultSettingsMap": {},
     "title": ""
    }
   },
   "outputs": [],
   "source": [
    "from pyspark.sql.functions import col, when, lit, year, month, avg, countDistinct"
   ]
  },
  {
   "cell_type": "code",
   "execution_count": 0,
   "metadata": {
    "application/vnd.databricks.v1+cell": {
     "cellMetadata": {
      "byteLimit": 2048000,
      "rowLimit": 10000
     },
     "inputWidgets": {},
     "nuid": "6a80d9d1-a8aa-4fe3-8b9e-c1e56fcebf0e",
     "showTitle": false,
     "tableResultSettingsMap": {},
     "title": ""
    }
   },
   "outputs": [],
   "source": [
    "from pyspark.sql import functions as F"
   ]
  },
  {
   "cell_type": "code",
   "execution_count": 0,
   "metadata": {
    "application/vnd.databricks.v1+cell": {
     "cellMetadata": {
      "byteLimit": 2048000,
      "rowLimit": 10000
     },
     "inputWidgets": {},
     "nuid": "459a7b34-b08e-425e-9fd0-61273421db96",
     "showTitle": false,
     "tableResultSettingsMap": {},
     "title": ""
    }
   },
   "outputs": [],
   "source": [
    "#Hago un conteo de valores negativos en la columna Average value del df_mediciones\n",
    "display(\n",
    "    df_mediciones.filter(col(\"Average value\") < 0).count()\n",
    ")"
   ]
  },
  {
   "cell_type": "code",
   "execution_count": 0,
   "metadata": {
    "application/vnd.databricks.v1+cell": {
     "cellMetadata": {
      "byteLimit": 2048000,
      "rowLimit": 10000
     },
     "inputWidgets": {},
     "nuid": "a4190cf6-2580-4046-9e9d-7040e08a29a0",
     "showTitle": false,
     "tableResultSettingsMap": {},
     "title": ""
    }
   },
   "outputs": [],
   "source": [
    "from pyspark.sql.functions import lower, col, trim, when, coalesce, lit, round, to_date, year, month, sum, countDistinct, avg\n",
    "from pyspark.sql.types import DoubleType"
   ]
  },
  {
   "cell_type": "code",
   "execution_count": 0,
   "metadata": {
    "application/vnd.databricks.v1+cell": {
     "cellMetadata": {
      "byteLimit": 2048000,
      "rowLimit": 10000
     },
     "inputWidgets": {},
     "nuid": "4647a49d-7ae4-4f20-861a-332b4c1eece6",
     "showTitle": false,
     "tableResultSettingsMap": {},
     "title": ""
    }
   },
   "outputs": [],
   "source": [
    "#Cambio los valores negativos a CERO.\n",
    "df_mediciones_clean = df_mediciones.withColumn(\n",
    "    \"Average value\",\n",
    "    when(col(\"Average value\") < 0, lit(0)).otherwise(col(\"Average value\"))\n",
    ")"
   ]
  },
  {
   "cell_type": "code",
   "execution_count": 0,
   "metadata": {
    "application/vnd.databricks.v1+cell": {
     "cellMetadata": {
      "byteLimit": 2048000,
      "rowLimit": 10000
     },
     "inputWidgets": {},
     "nuid": "751f7917-60ee-4c59-b66d-e0b5f36ad68a",
     "showTitle": false,
     "tableResultSettingsMap": {},
     "title": ""
    }
   },
   "outputs": [],
   "source": [
    "display(\n",
    "    df_mediciones_clean.filter(col(\"Average value\") == 0)\n",
    ")"
   ]
  },
  {
   "cell_type": "markdown",
   "metadata": {
    "application/vnd.databricks.v1+cell": {
     "cellMetadata": {},
     "inputWidgets": {},
     "nuid": "5fbd09bf-353f-47b6-9b9c-abdbda6be357",
     "showTitle": false,
     "tableResultSettingsMap": {},
     "title": ""
    }
   },
   "source": [
    "###3. Transformaciones y columnas derivadas \n",
    "- Crear columnas como montos, categorías, anio, mes, banderas de calidad, etc. "
   ]
  },
  {
   "cell_type": "code",
   "execution_count": 0,
   "metadata": {
    "application/vnd.databricks.v1+cell": {
     "cellMetadata": {
      "byteLimit": 2048000,
      "rowLimit": 10000
     },
     "inputWidgets": {},
     "nuid": "4aa58e6b-fadc-47d1-b651-c0ceb21a1112",
     "showTitle": false,
     "tableResultSettingsMap": {},
     "title": ""
    }
   },
   "outputs": [],
   "source": [
    "# Añado columnas Año y Mes de medición del df_mediciones_clean\n",
    "df_aniomes_mediciones = (\n",
    "    df_mediciones_clean\n",
    "    .withColumn(\"anio_medicion\", year(col(\"Measurement date\")))\n",
    "    .withColumn(\"mes_medicion\", month(col(\"Measurement date\")))\n",
    ")"
   ]
  },
  {
   "cell_type": "code",
   "execution_count": 0,
   "metadata": {
    "application/vnd.databricks.v1+cell": {
     "cellMetadata": {
      "byteLimit": 2048000,
      "rowLimit": 10000
     },
     "inputWidgets": {},
     "nuid": "780f9920-b3de-4139-aa43-aa64a46aafa9",
     "showTitle": false,
     "tableResultSettingsMap": {
      "0": {
       "dataGridStateBlob": "{\"version\":1,\"tableState\":{\"columnPinning\":{\"left\":[\"#row_number#\"],\"right\":[]},\"columnSizing\":{},\"columnVisibility\":{}},\"settings\":{\"columns\":{}},\"syncTimestamp\":1755571811647}",
       "filterBlob": null,
       "queryPlanFiltersBlob": null,
       "tableResultIndex": 0
      }
     },
     "title": ""
    }
   },
   "outputs": [],
   "source": [
    "display(df_aniomes_mediciones)"
   ]
  },
  {
   "cell_type": "markdown",
   "metadata": {
    "application/vnd.databricks.v1+cell": {
     "cellMetadata": {},
     "inputWidgets": {},
     "nuid": "10c2c711-f80d-47ee-a878-979c03fef30b",
     "showTitle": false,
     "tableResultSettingsMap": {},
     "title": ""
    }
   },
   "source": [
    "###4. Uniones y agregaciones\n",
    "- Realizar al menos un join entre datasets y dos agregaciones de valor de negocio (KPIs claros). "
   ]
  },
  {
   "cell_type": "code",
   "execution_count": 0,
   "metadata": {
    "application/vnd.databricks.v1+cell": {
     "cellMetadata": {
      "byteLimit": 2048000,
      "rowLimit": 10000
     },
     "inputWidgets": {},
     "nuid": "59319ba8-3d3a-4292-9259-79c85d8971bc",
     "showTitle": false,
     "tableResultSettingsMap": {},
     "title": ""
    }
   },
   "outputs": [],
   "source": [
    "# Join entre df_mediciones_clean, df_unidades_medida y df_estaciones\n",
    "df_joined = (\n",
    "    df_mediciones_clean.alias(\"m\")\n",
    "    .join(\n",
    "        df_unidades_medida.alias(\"u\"),\n",
    "        col(\"m.Item code\") == col(\"u.Item code\"),\n",
    "        \"left\"\n",
    "    )\n",
    "    .join(\n",
    "        df_estaciones.alias(\"e\"),\n",
    "        col(\"m.Station code\") == col(\"e.Station code\"),\n",
    "        \"left\"\n",
    "    )\n",
    "    .select(\n",
    "        col(\"m.Measurement date\").alias(\"fecha_medicion\"),\n",
    "        col(\"e.Station name(district)\").alias(\"distrito_estacion\"),\n",
    "        col(\"u.Item name\").alias(\"item_medido\"),\n",
    "        col(\"m.Average value\").alias(\"valor_medido\"),\n",
    "        col(\"e.Latitude\").alias(\"latitud_estacion\")\n",
    "    )\n",
    ")\n",
    "\n",
    "# KPI 1: Promedio de valor medido por tipo de medición\n",
    "df_kpi_avg = (\n",
    "    df_joined\n",
    "    .groupBy(\"item_medido\")\n",
    "    .agg(\n",
    "        avg(\"valor_medido\").alias(\"promedio_valor_medido\")\n",
    "    )\n",
    ")\n",
    "\n",
    "# KPI 2: Total de mediciones por estación (usando latitud_estacion)\n",
    "df_kpi_count = (\n",
    "    df_joined\n",
    "    .groupBy(\"latitud_estacion\")\n",
    "    .agg(\n",
    "        countDistinct(\"fecha_medicion\").alias(\"total_mediciones\")\n",
    "    )\n",
    ")"
   ]
  },
  {
   "cell_type": "code",
   "execution_count": 0,
   "metadata": {
    "application/vnd.databricks.v1+cell": {
     "cellMetadata": {
      "byteLimit": 2048000,
      "rowLimit": 10000
     },
     "inputWidgets": {},
     "nuid": "83f6d7a6-d358-4ca6-b7e4-e2d2c7968749",
     "showTitle": false,
     "tableResultSettingsMap": {
      "0": {
       "dataGridStateBlob": "{\"version\":1,\"tableState\":{\"columnPinning\":{\"left\":[\"#row_number#\"],\"right\":[]},\"columnSizing\":{},\"columnVisibility\":{}},\"settings\":{\"columns\":{}},\"syncTimestamp\":1755575992680}",
       "filterBlob": "{\"version\":1,\"filterGroups\":[],\"syncTimestamp\":1755576000037}",
       "queryPlanFiltersBlob": "[]",
       "tableResultIndex": 0
      }
     },
     "title": ""
    }
   },
   "outputs": [],
   "source": [
    "display(df_joined)"
   ]
  },
  {
   "cell_type": "code",
   "execution_count": 0,
   "metadata": {
    "application/vnd.databricks.v1+cell": {
     "cellMetadata": {
      "byteLimit": 2048000,
      "rowLimit": 10000
     },
     "inputWidgets": {},
     "nuid": "710462c4-b5df-4c6a-b733-3d78356861e9",
     "showTitle": false,
     "tableResultSettingsMap": {},
     "title": ""
    }
   },
   "outputs": [],
   "source": [
    "display(df_kpi_avg)"
   ]
  },
  {
   "cell_type": "code",
   "execution_count": 0,
   "metadata": {
    "application/vnd.databricks.v1+cell": {
     "cellMetadata": {
      "byteLimit": 2048000,
      "rowLimit": 10000
     },
     "inputWidgets": {},
     "nuid": "81abe152-abd8-41c1-816e-7c3aea84abe4",
     "showTitle": false,
     "tableResultSettingsMap": {},
     "title": ""
    }
   },
   "outputs": [],
   "source": [
    "display(df_kpi_count)"
   ]
  },
  {
   "cell_type": "markdown",
   "metadata": {
    "application/vnd.databricks.v1+cell": {
     "cellMetadata": {},
     "inputWidgets": {},
     "nuid": "68c587ce-b8e8-49e5-b886-e7c0a9b32a2d",
     "showTitle": false,
     "tableResultSettingsMap": {},
     "title": ""
    }
   },
   "source": [
    "###5. Persistencia \n",
    "- Grabar tablas resultantes en Delta + Unity Catalog (modo overwrite para la primera entrega). "
   ]
  },
  {
   "cell_type": "code",
   "execution_count": 0,
   "metadata": {
    "application/vnd.databricks.v1+cell": {
     "cellMetadata": {
      "byteLimit": 2048000,
      "rowLimit": 10000
     },
     "inputWidgets": {},
     "nuid": "017e1fcd-e40c-4f62-a1ae-c6a1411ef57b",
     "showTitle": false,
     "tableResultSettingsMap": {},
     "title": ""
    }
   },
   "outputs": [],
   "source": [
    "tbl_joined = f\"{catalog}.{schema_name}.mediciones_detalle\"\n",
    "tbl_kpi_avg = f\"{catalog}.{schema_name}.mediciones_kpi_avg\"\n",
    "tbl_kpi_count = f\"{catalog}.{schema_name}.mediciones_kpi_count\""
   ]
  },
  {
   "cell_type": "code",
   "execution_count": 0,
   "metadata": {
    "application/vnd.databricks.v1+cell": {
     "cellMetadata": {
      "byteLimit": 2048000,
      "rowLimit": 10000
     },
     "inputWidgets": {},
     "nuid": "67db85d5-8f7a-43bd-bfbe-ce978f6ae3a7",
     "showTitle": false,
     "tableResultSettingsMap": {},
     "title": ""
    }
   },
   "outputs": [],
   "source": [
    "df_joined.write.format(\"delta\").mode(\"overwrite\").saveAsTable(tbl_joined)"
   ]
  },
  {
   "cell_type": "code",
   "execution_count": 0,
   "metadata": {
    "application/vnd.databricks.v1+cell": {
     "cellMetadata": {
      "byteLimit": 2048000,
      "rowLimit": 10000
     },
     "inputWidgets": {},
     "nuid": "e1fb7ebf-de81-45e2-860c-3a66ec52da47",
     "showTitle": false,
     "tableResultSettingsMap": {},
     "title": ""
    }
   },
   "outputs": [],
   "source": [
    "df_kpi_avg.write.format(\"delta\").mode(\"overwrite\").saveAsTable(tbl_kpi_avg)"
   ]
  },
  {
   "cell_type": "code",
   "execution_count": 0,
   "metadata": {
    "application/vnd.databricks.v1+cell": {
     "cellMetadata": {
      "byteLimit": 2048000,
      "rowLimit": 10000
     },
     "inputWidgets": {},
     "nuid": "c1877b4a-1d0e-4f32-8bd6-eb680877ec21",
     "showTitle": false,
     "tableResultSettingsMap": {},
     "title": ""
    }
   },
   "outputs": [],
   "source": [
    "df_kpi_count.write.format(\"delta\").mode(\"overwrite\").saveAsTable(tbl_kpi_count)"
   ]
  },
  {
   "cell_type": "code",
   "execution_count": 0,
   "metadata": {
    "application/vnd.databricks.v1+cell": {
     "cellMetadata": {
      "byteLimit": 2048000,
      "implicitDf": true,
      "rowLimit": 10000
     },
     "inputWidgets": {},
     "nuid": "d6c34878-18f9-4b5e-ab4b-4735a0a2b746",
     "showTitle": false,
     "tableResultSettingsMap": {},
     "title": ""
    }
   },
   "outputs": [],
   "source": [
    "%sql\n",
    "select * from dmc_taller02y03.gold_airpollutionseoul.mediciones_detalle"
   ]
  },
  {
   "cell_type": "code",
   "execution_count": 0,
   "metadata": {
    "application/vnd.databricks.v1+cell": {
     "cellMetadata": {
      "byteLimit": 2048000,
      "implicitDf": true,
      "rowLimit": 10000
     },
     "inputWidgets": {},
     "nuid": "22197e98-92c8-4c7c-bb15-40f22f2a7120",
     "showTitle": false,
     "tableResultSettingsMap": {},
     "title": ""
    }
   },
   "outputs": [],
   "source": [
    "%sql\n",
    "select * from dmc_taller02y03.gold_airpollutionseoul.mediciones_kpi_avg"
   ]
  },
  {
   "cell_type": "code",
   "execution_count": 0,
   "metadata": {
    "application/vnd.databricks.v1+cell": {
     "cellMetadata": {
      "byteLimit": 2048000,
      "implicitDf": true,
      "rowLimit": 10000
     },
     "inputWidgets": {},
     "nuid": "0c980bc3-dd42-402b-be55-91d73643339f",
     "showTitle": false,
     "tableResultSettingsMap": {},
     "title": ""
    }
   },
   "outputs": [],
   "source": [
    "%sql\n",
    "select * from dmc_taller02y03.gold_airpollutionseoul.mediciones_kpi_count"
   ]
  },
  {
   "cell_type": "markdown",
   "metadata": {
    "application/vnd.databricks.v1+cell": {
     "cellMetadata": {},
     "inputWidgets": {},
     "nuid": "27369645-c37a-47bc-a220-8b930aaa0b32",
     "showTitle": false,
     "tableResultSettingsMap": {},
     "title": ""
    }
   },
   "source": [
    "###6. Auditoría (opcional) \n",
    "- Construir una tabla de auditoría que capture: origen(es) leídos, records_read, records_processed, tabla(s) destino, status, started_at, ended_at, duration_ms, run_id (opcional), extra_metadata (JSON opcional). "
   ]
  },
  {
   "cell_type": "code",
   "execution_count": 0,
   "metadata": {
    "application/vnd.databricks.v1+cell": {
     "cellMetadata": {
      "byteLimit": 2048000,
      "rowLimit": 10000
     },
     "inputWidgets": {},
     "nuid": "1082d571-5dcd-45a6-a0f3-96d803d30de4",
     "showTitle": false,
     "tableResultSettingsMap": {},
     "title": ""
    }
   },
   "outputs": [],
   "source": [
    "from pyspark.sql.functions import current_timestamp, to_json, struct\n",
    "import uuid\n",
    "import time"
   ]
  },
  {
   "cell_type": "code",
   "execution_count": 0,
   "metadata": {
    "application/vnd.databricks.v1+cell": {
     "cellMetadata": {
      "byteLimit": 2048000,
      "rowLimit": 10000
     },
     "inputWidgets": {},
     "nuid": "63196af5-8993-4ee2-ba7c-be0856209d1e",
     "showTitle": false,
     "tableResultSettingsMap": {},
     "title": ""
    }
   },
   "outputs": [],
   "source": [
    "# Auditoría: captura de tiempos y métricas\n",
    "started_at = time.time()\n",
    "started_at_ts = spark.sql(\"SELECT current_timestamp() as ts\").collect()[0]['ts']\n",
    "\n",
    "# Orígenes leídos\n",
    "origenes_leidos = [\"df_mediciones_clean\", \"df_unidades_medida\", \"df_estaciones\"]\n",
    "records_read = (\n",
    "    df_mediciones_clean.count() +\n",
    "    df_unidades_medida.count() +\n",
    "    df_estaciones.count()\n",
    ")\n",
    "\n",
    "# Procesamiento principal\n",
    "records_processed = df_joined.count()\n",
    "tablas_destino = [tbl_joined, tbl_kpi_avg, tbl_kpi_count]\n",
    "status = \"SUCCESS\"\n",
    "run_id = str(uuid.uuid4())\n",
    "extra_metadata = {\n",
    "    \"user\": dbutils.notebook.entry_point.getDbutils().notebook().getContext().userName().get(),\n",
    "    \"notebook\": dbutils.notebook.entry_point.getDbutils().notebook().getContext().notebookPath().get()\n",
    "}\n",
    "\n",
    "ended_at = time.time()\n",
    "ended_at_ts = spark.sql(\"SELECT current_timestamp() as ts\").collect()[0]['ts']\n",
    "duration_ms = int((ended_at - started_at) * 1000)\n",
    "\n",
    "# Construcción del DataFrame de auditoría\n",
    "df_auditoria = spark.createDataFrame([{\n",
    "    \"origenes_leidos\": str(origenes_leidos),\n",
    "    \"records_read\": records_read,\n",
    "    \"records_processed\": records_processed,\n",
    "    \"tablas_destino\": str(tablas_destino),\n",
    "    \"status\": status,\n",
    "    \"started_at\": started_at_ts,\n",
    "    \"ended_at\": ended_at_ts,\n",
    "    \"duration_ms\": duration_ms,\n",
    "    \"run_id\": run_id,\n",
    "    \"extra_metadata\": str(extra_metadata)\n",
    "}])\n",
    "\n",
    "# Guardar la tabla de auditoría\n",
    "tbl_auditoria = f\"{catalog}.{schema_name}.auditoria_etl\"\n",
    "df_auditoria.write.format(\"delta\").mode(\"append\").saveAsTable(tbl_auditoria)"
   ]
  },
  {
   "cell_type": "code",
   "execution_count": 0,
   "metadata": {
    "application/vnd.databricks.v1+cell": {
     "cellMetadata": {
      "byteLimit": 2048000,
      "rowLimit": 10000
     },
     "inputWidgets": {},
     "nuid": "200fbdbd-e7fd-42b5-871f-019d40be2e42",
     "showTitle": false,
     "tableResultSettingsMap": {},
     "title": ""
    }
   },
   "outputs": [],
   "source": [
    "display(df_auditoria)"
   ]
  }
 ],
 "metadata": {
  "application/vnd.databricks.v1+notebook": {
   "computePreferences": {
    "hardware": {
     "accelerator": null,
     "gpuPoolId": null,
     "memory": "STANDARD"
    }
   },
   "dashboards": [],
   "environmentMetadata": {
    "base_environment": "",
    "environment_version": "2"
   },
   "inputWidgetPreferences": null,
   "language": "python",
   "notebookMetadata": {
    "mostRecentlyExecutedCommandWithImplicitDF": {
     "commandId": 8626618889484099,
     "dataframes": [
      "_sqldf"
     ]
    },
    "pythonIndentUnit": 4
   },
   "notebookName": "DMC Taller Evaluado 02 y 03 - Mario Alonso Vento Alvarado",
   "widgets": {}
  },
  "language_info": {
   "name": "python"
  }
 },
 "nbformat": 4,
 "nbformat_minor": 0
}
