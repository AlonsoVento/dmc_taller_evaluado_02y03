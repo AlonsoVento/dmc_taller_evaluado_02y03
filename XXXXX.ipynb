{
 "cells": [
  {
   "cell_type": "markdown",
   "metadata": {
    "application/vnd.databricks.v1+cell": {
     "cellMetadata": {},
     "inputWidgets": {},
     "nuid": "0c6fdeac-858c-402c-8412-bdb661c418a2",
     "showTitle": false,
     "tableResultSettingsMap": {},
     "title": ""
    }
   },
   "source": [
    "###Taller Evaluado 02 Y 03\n",
    "**Objetivo:** Diseñar y ejecutar un pipeline en Databricks que ingeste, limpie, transforme, una y agregue datos relevantes para su industria elegida, persista resultados en Delta + Unity Catalog, y genere una tabla de auditoría con trazabilidad de la ejecución (origen, conteos y marcas de tiempo). "
   ]
  },
  {
   "cell_type": "markdown",
   "metadata": {
    "application/vnd.databricks.v1+cell": {
     "cellMetadata": {},
     "inputWidgets": {},
     "nuid": "b2d8afda-549a-4298-bd01-789ed36f52e8",
     "showTitle": false,
     "tableResultSettingsMap": {},
     "title": ""
    }
   },
   "source": [
    "### 1. Ingesta y perfilado inicial.\n",
    "- Lectura de 3–4 datasets (p. ej., clientes, transacciones, catálogo/productos, sucursales, etc.).\n",
    "- Validar esquema, nulos, rangos de fechas, duplicados.\n",
    "\n",
    "Busqué DataSets en la página [KAGGLE](https://www.kaggle.com/) y obtuve los **datasets del monitoreo de la calidad del aire en Seúl, Corea del Sur**, y proporciona un caso práctico para analizar los niveles de contaminación en diferentes distritos a lo largo del tiempo. El dataset principal, `Measurement_summary.csv`, contiene mediciones horarias de contaminantes clave como SO2, NO2, CO, O3, PM10 y PM2.5, recolectadas desde enero de 2017 hasta diciembre de 2018. Para enriquecer este análisis, se incluyen dos datasets de apoyo: `Measurement_station_info.csv`, que proporciona detalles geográficos y de ubicación de las 25 estaciones de monitoreo, y `Measurement_item_info.csv`, que describe los códigos de los ítems de medición y los umbrales de calidad del aire asociados a cada contaminante. En conjunto, estos archivos permiten un perfilado de datos integral y la ingesta de un modelo de datos relacional.\n",
    "\n",
    "El enlace del DataSet en mención es: [Air Pollution in Seoul](https://www.kaggle.com/datasets/bappekim/air-pollution-in-seoul)."
   ]
  },
  {
   "cell_type": "markdown",
   "metadata": {
    "application/vnd.databricks.v1+cell": {
     "cellMetadata": {},
     "inputWidgets": {},
     "nuid": "a5aa47b0-a51c-4067-b316-b455af44678d",
     "showTitle": false,
     "tableResultSettingsMap": {},
     "title": ""
    }
   },
   "source": [
    "### Procedimiento\n",
    "\n",
    "1. Creamos catalogo y schema\n",
    "2. Definimos rutas de origen\n",
    "3. Leemos archivos de origen\n",
    "4. Limpiamos a los diferentes datasets\n",
    "5. Creamos columnas derivadas\n",
    "6. Aplicamos joins para generar nuevos datasets\n",
    "7. Aplicamos agregaciones para nuevos datasets\n",
    "8. Escribimos en formato delta"
   ]
  },
  {
   "cell_type": "code",
   "execution_count": 0,
   "metadata": {
    "application/vnd.databricks.v1+cell": {
     "cellMetadata": {
      "byteLimit": 2048000,
      "rowLimit": 10000
     },
     "inputWidgets": {},
     "nuid": "cc2eeeed-52af-4134-a683-57460595cd7e",
     "showTitle": false,
     "tableResultSettingsMap": {},
     "title": ""
    }
   },
   "outputs": [],
   "source": [
    "catalog = \"dmc_taller02y03\"\n",
    "schema_name = \"gold_airpollutionseoul\"\n",
    "\n",
    "spark.sql(f\"CREATE CATALOG IF NOT EXISTS {catalog}\")\n",
    "spark.sql(f\"CREATE SCHEMA IF NOT EXISTS {catalog}.{schema_name}\")"
   ]
  },
  {
   "cell_type": "code",
   "execution_count": 0,
   "metadata": {
    "application/vnd.databricks.v1+cell": {
     "cellMetadata": {
      "byteLimit": 2048000,
      "rowLimit": 10000
     },
     "inputWidgets": {},
     "nuid": "be74d946-1095-497d-875a-7b3061f0debe",
     "showTitle": false,
     "tableResultSettingsMap": {},
     "title": ""
    }
   },
   "outputs": [],
   "source": [
    "path_mediciones = \"/Volumes/dmc_taller02y03/gold_airpollutionseoul/source/csv/Measurement_info.csv\"\n",
    "path_unidades_medida = \"/Volumes/dmc_taller02y03/gold_airpollutionseoul/source/csv/Measurement_item_info.csv\"\n",
    "path_estaciones = \"/Volumes/dmc_taller02y03/gold_airpollutionseoul/source/csv/Measurement_station_info.csv\"\n",
    "\n",
    "df_mediciones = spark.read.option(\"header\", True).option(\"inferSchema\", True).csv(path_mediciones)\n",
    "df_unidades_medida = spark.read.option(\"header\", True).option(\"inferSchema\", True).csv(path_unidades_medida)\n",
    "df_estacioneses = spark.read.option(\"header\", True).option(\"inferSchema\", True).csv(path_estaciones)"
   ]
  },
  {
   "cell_type": "markdown",
   "metadata": {
    "application/vnd.databricks.v1+cell": {
     "cellMetadata": {},
     "inputWidgets": {},
     "nuid": "c82f9946-00c9-4ed2-a5d4-5e5c0b9795bd",
     "showTitle": false,
     "tableResultSettingsMap": {},
     "title": ""
    }
   },
   "source": [
    "### 2. Limpieza y normalización\n",
    "- Eliminar/Corregir registros inválidos (nulos en claves, precios/cantidades negativas o cero, fechas inválidas, emails mal formados, etc.). \n",
    "- Normalizar strings (trim, lower, regex si aplica) y cast de tipos."
   ]
  },
  {
   "cell_type": "code",
   "execution_count": 0,
   "metadata": {
    "application/vnd.databricks.v1+cell": {
     "cellMetadata": {
      "byteLimit": 2048000,
      "rowLimit": 10000
     },
     "inputWidgets": {},
     "nuid": "a4190cf6-2580-4046-9e9d-7040e08a29a0",
     "showTitle": false,
     "tableResultSettingsMap": {},
     "title": ""
    }
   },
   "outputs": [],
   "source": [
    "from pyspark.sql.functions import lower, col, trim, when, coalesce, lit, round, to_date, year, month, sum, countDistinct, avg\n",
    "from pyspark.sql.types import DoubleType"
   ]
  },
  {
   "cell_type": "code",
   "execution_count": 0,
   "metadata": {
    "application/vnd.databricks.v1+cell": {
     "cellMetadata": {
      "byteLimit": 2048000,
      "rowLimit": 10000
     },
     "inputWidgets": {},
     "nuid": "33a48140-4ff3-443c-b66d-06ab357e00e8",
     "showTitle": false,
     "tableResultSettingsMap": {},
     "title": ""
    }
   },
   "outputs": [],
   "source": [
    "df_mediciones_clean = (\n",
    "    df_mediciones\n",
    "    .withColumn(\"email\", when(col(\"email\").contains(\"@\"), col(\"email\")))\n",
    "    .withColumn(\"email\", coalesce(col(\"email\"), lit(\"-\")))\n",
    ")"
   ]
  },
  {
   "cell_type": "code",
   "execution_count": 0,
   "metadata": {
    "application/vnd.databricks.v1+cell": {
     "cellMetadata": {
      "byteLimit": 2048000,
      "rowLimit": 10000
     },
     "inputWidgets": {},
     "nuid": "a0113a25-4b0f-4479-84be-15fecfc3076d",
     "showTitle": false,
     "tableResultSettingsMap": {},
     "title": ""
    }
   },
   "outputs": [],
   "source": [
    "df_productos_clean = (\n",
    "    df_productos\n",
    "    .withColumn(\"nombre_producto\", trim(lower(col(\"nombre_producto\"))))\n",
    ")"
   ]
  },
  {
   "cell_type": "code",
   "execution_count": 0,
   "metadata": {
    "application/vnd.databricks.v1+cell": {
     "cellMetadata": {
      "byteLimit": 2048000,
      "rowLimit": 10000
     },
     "inputWidgets": {},
     "nuid": "2aedd36c-52a2-4c76-8ee9-83e597b85bf1",
     "showTitle": false,
     "tableResultSettingsMap": {},
     "title": ""
    }
   },
   "outputs": [],
   "source": [
    "df_ventas_clean = (\n",
    "    df_ventas\n",
    "    .dropna(subset=[\"cantidad\"])\n",
    "    .filter(col(\"precio_unitario\") > 0)\n",
    ")"
   ]
  },
  {
   "cell_type": "markdown",
   "metadata": {
    "application/vnd.databricks.v1+cell": {
     "cellMetadata": {},
     "inputWidgets": {},
     "nuid": "905e2725-0b20-47a2-9d56-df114865290e",
     "showTitle": false,
     "tableResultSettingsMap": {},
     "title": ""
    }
   },
   "source": [
    "![](/Volumes/dmc/gold_farmacias/source/Diagrama_AdventureWorksLT_01.png)"
   ]
  },
  {
   "cell_type": "markdown",
   "metadata": {
    "application/vnd.databricks.v1+cell": {
     "cellMetadata": {},
     "inputWidgets": {},
     "nuid": "1b352944-a038-4d8d-bafd-1f7a27d07c0a",
     "showTitle": false,
     "tableResultSettingsMap": {},
     "title": ""
    }
   },
   "source": []
  },
  {
   "cell_type": "code",
   "execution_count": 0,
   "metadata": {
    "application/vnd.databricks.v1+cell": {
     "cellMetadata": {
      "byteLimit": 2048000,
      "rowLimit": 10000
     },
     "inputWidgets": {},
     "nuid": "4aa58e6b-fadc-47d1-b651-c0ceb21a1112",
     "showTitle": false,
     "tableResultSettingsMap": {},
     "title": ""
    }
   },
   "outputs": [],
   "source": [
    "df_ventas_procesada = (\n",
    "    df_ventas_clean\n",
    "    .withColumn(\"monto_total\", round(col(\"cantidad\").cast(DoubleType()) * col(\"precio_unitario\").cast(\"double\"), 2))\n",
    "    .withColumn(\"fecha_venta\", to_date(col(\"fecha_venta\")))\n",
    "    .withColumn(\"anio_venta\", year(col(\"fecha_venta\")))\n",
    "    .withColumn(\"mes_venta\", month(col(\"fecha_venta\")))\n",
    ")"
   ]
  },
  {
   "cell_type": "code",
   "execution_count": 0,
   "metadata": {
    "application/vnd.databricks.v1+cell": {
     "cellMetadata": {
      "byteLimit": 2048000,
      "rowLimit": 10000
     },
     "inputWidgets": {},
     "nuid": "d5df44c6-1f09-4d68-a393-b822df225b64",
     "showTitle": false,
     "tableResultSettingsMap": {},
     "title": ""
    }
   },
   "outputs": [],
   "source": [
    "df_join = (\n",
    "    df_ventas_procesada.alias(\"vp\")\n",
    "    .join(\n",
    "        df_clientes_clean.alias(\"cc\").select(\"id_cliente\", \"nombre\", \"apellido\", \"email\"),\n",
    "        col(\"vp.id_cliente\") == col(\"cc.id_cliente\"),\n",
    "        \"left\"\n",
    "    )\n",
    "    .join(\n",
    "        df_productos_clean.alias(\"pc\").select(\"id_producto\", \"nombre_producto\", \"categoria\", \"marca\", \"costo_unitario\"),\n",
    "        col(\"vp.id_producto\") == col(\"pc.id_producto\"),\n",
    "        \"left\"\n",
    "    )\n",
    "    .join(\n",
    "        df_sucursales.alias(\"s\").select(\"id_sucursal\", \"ciudad\", \"distrito\", \"nombre_sucursal\"),\n",
    "        col(\"vp.id_sucursal\") == col(\"s.id_sucursal\"),\n",
    "        \"left\"\n",
    "    )\n",
    "    .select(\n",
    "        col(\"vp.id_venta\").alias(\"id_venta\"),\n",
    "        col(\"vp.fecha_venta\").alias(\"fecha_venta\"),\n",
    "        col(\"vp.id_cliente\").alias(\"id_cliente\"),\n",
    "        col(\"cc.nombre\").alias(\"nombre\"),\n",
    "        col(\"cc.apellido\").alias(\"apellido\"),\n",
    "        col(\"cc.email\").alias(\"email\"),\n",
    "        col(\"vp.id_producto\").alias(\"id_producto\"),\n",
    "        col(\"pc.nombre_producto\").alias(\"nombre_producto\"),\n",
    "        col(\"pc.categoria\").alias(\"categoria\"),\n",
    "        col(\"pc.marca\").alias(\"marca\"),\n",
    "        col(\"pc.costo_unitario\").alias(\"costo_unitario\"),\n",
    "        col(\"vp.id_sucursal\").alias(\"id_sucursal\"),\n",
    "        col(\"s.ciudad\").alias(\"ciudad\"),\n",
    "        col(\"s.distrito\").alias(\"distrito\"),\n",
    "        col(\"s.nombre_sucursal\").alias(\"nombre_sucursal\"),\n",
    "        col(\"vp.cantidad\").alias(\"cantidad\"),\n",
    "        col(\"vp.precio_unitario\").alias(\"precio_unitario\"),\n",
    "        col(\"vp.monto_total\").alias(\"monto_total\"),\n",
    "        # (col(\"vp.cantidad\") * col(\"vp.precio_unitario\")).alias(\"monto_total_2\"),\n",
    "        col(\"vp.anio_venta\").alias(\"anio_venta\"),\n",
    "        col(\"vp.mes_venta\").alias(\"mes_venta\")        \n",
    "    )\n",
    ").dropDuplicates([\"id_venta\"])"
   ]
  },
  {
   "cell_type": "code",
   "execution_count": 0,
   "metadata": {
    "application/vnd.databricks.v1+cell": {
     "cellMetadata": {
      "byteLimit": 2048000,
      "rowLimit": 10000
     },
     "inputWidgets": {},
     "nuid": "6b948d36-93ff-437e-ad79-cd2e828c415c",
     "showTitle": false,
     "tableResultSettingsMap": {},
     "title": ""
    }
   },
   "outputs": [],
   "source": [
    "df_categoria_ticket = (\n",
    "    df_join\n",
    "    .withColumn(\"categoria_ticket\", \n",
    "                when(col(\"monto_total\") >= 200, lit(\"Alto\"))\n",
    "                .when(col(\"monto_total\") >= 80, lit(\"Medio\"))\n",
    "                .otherwise(lit(\"Bajo\"))\n",
    "    )\n",
    ")"
   ]
  },
  {
   "cell_type": "code",
   "execution_count": 0,
   "metadata": {
    "application/vnd.databricks.v1+cell": {
     "cellMetadata": {
      "byteLimit": 2048000,
      "rowLimit": 10000
     },
     "inputWidgets": {},
     "nuid": "4206b3bb-db2f-48ab-8fe1-2cb37e199611",
     "showTitle": false,
     "tableResultSettingsMap": {},
     "title": ""
    }
   },
   "outputs": [],
   "source": [
    "df_ventas_ciudad_anio = (\n",
    "    df_join\n",
    "    .groupBy(\"ciudad\", \"anio_venta\")\n",
    "    .agg(\n",
    "        sum(\"monto_total\").alias(\"venta_total\"),\n",
    "        countDistinct(\"id_venta\").alias(\"num_ventas\")\n",
    "    )\n",
    ")"
   ]
  },
  {
   "cell_type": "code",
   "execution_count": 0,
   "metadata": {
    "application/vnd.databricks.v1+cell": {
     "cellMetadata": {
      "byteLimit": 2048000,
      "rowLimit": 10000
     },
     "inputWidgets": {},
     "nuid": "096c4d9d-2e22-413f-81b6-3d8a282dd89f",
     "showTitle": false,
     "tableResultSettingsMap": {},
     "title": ""
    }
   },
   "outputs": [],
   "source": [
    "df_ventas_cliente = (\n",
    "    df_join\n",
    "    .groupBy(\"id_cliente\")\n",
    "    .agg(\n",
    "        avg(\"monto_total\").alias(\"venta_promedio\"),\n",
    "        countDistinct(\"id_venta\").alias(\"num_ventas\")\n",
    "    )\n",
    ")"
   ]
  },
  {
   "cell_type": "code",
   "execution_count": 0,
   "metadata": {
    "application/vnd.databricks.v1+cell": {
     "cellMetadata": {
      "byteLimit": 2048000,
      "rowLimit": 10000
     },
     "inputWidgets": {},
     "nuid": "6aa395f7-d6a2-4fc0-99ce-e30c038dc7c9",
     "showTitle": false,
     "tableResultSettingsMap": {},
     "title": ""
    }
   },
   "outputs": [],
   "source": [
    "df_categoria_ventas = (\n",
    "    df_categoria_ticket\n",
    "    .groupBy(\"categoria_ticket\")\n",
    "    .agg(\n",
    "        sum(\"monto_total\").alias(\"ventas\"),\n",
    "        countDistinct(\"id_venta\").alias(\"num_ventas\")\n",
    "    )\n",
    ")"
   ]
  },
  {
   "cell_type": "code",
   "execution_count": 0,
   "metadata": {
    "application/vnd.databricks.v1+cell": {
     "cellMetadata": {
      "byteLimit": 2048000,
      "rowLimit": 10000
     },
     "inputWidgets": {},
     "nuid": "07836cc0-b92f-4660-99b3-082ad583257b",
     "showTitle": false,
     "tableResultSettingsMap": {},
     "title": ""
    }
   },
   "outputs": [],
   "source": [
    "tbl_detalle = f\"{catalog}.{schema_name}.ventas_detalle\"\n",
    "tbl_ciudad = f\"{catalog}.{schema_name}.ventas_ciudad_anio\"\n",
    "tbl_promedio = f\"{catalog}.{schema_name}.ventas_promedio\"\n",
    "tbl_categoria = f\"{catalog}.{schema_name}.ventas_categoria\""
   ]
  },
  {
   "cell_type": "code",
   "execution_count": 0,
   "metadata": {
    "application/vnd.databricks.v1+cell": {
     "cellMetadata": {
      "byteLimit": 2048000,
      "rowLimit": 10000
     },
     "inputWidgets": {},
     "nuid": "a4bc67c9-e422-4c10-8d42-5e24fea761cb",
     "showTitle": false,
     "tableResultSettingsMap": {},
     "title": ""
    }
   },
   "outputs": [],
   "source": [
    "df_join.write.format(\"delta\").mode(\"overwrite\").saveAsTable(tbl_detalle)"
   ]
  },
  {
   "cell_type": "code",
   "execution_count": 0,
   "metadata": {
    "application/vnd.databricks.v1+cell": {
     "cellMetadata": {
      "byteLimit": 2048000,
      "rowLimit": 10000
     },
     "inputWidgets": {},
     "nuid": "e33a7af3-4312-4dfa-aa51-9465cfca4f4e",
     "showTitle": false,
     "tableResultSettingsMap": {},
     "title": ""
    }
   },
   "outputs": [],
   "source": [
    "df_join.write.format(\"delta\").mode(\"overwrite\").partitionBy(\"anio_venta\", \"mes_venta\").save(\"/Volumes/dmc/gold_farmacias/source/ventas_detalle/\")"
   ]
  },
  {
   "cell_type": "code",
   "execution_count": 0,
   "metadata": {
    "application/vnd.databricks.v1+cell": {
     "cellMetadata": {
      "byteLimit": 2048000,
      "rowLimit": 10000
     },
     "inputWidgets": {},
     "nuid": "f61ab429-a09f-4ecf-b319-a5c20ccc5372",
     "showTitle": false,
     "tableResultSettingsMap": {},
     "title": ""
    }
   },
   "outputs": [],
   "source": [
    "df_ventas_ciudad_anio.write.format(\"delta\").mode(\"overwrite\").saveAsTable(tbl_ciudad)"
   ]
  },
  {
   "cell_type": "code",
   "execution_count": 0,
   "metadata": {
    "application/vnd.databricks.v1+cell": {
     "cellMetadata": {
      "byteLimit": 2048000,
      "rowLimit": 10000
     },
     "inputWidgets": {},
     "nuid": "92dd9b43-88d9-4c50-afdf-d22f58f9e74e",
     "showTitle": false,
     "tableResultSettingsMap": {},
     "title": ""
    }
   },
   "outputs": [],
   "source": [
    "df_ventas_cliente.write.format(\"delta\").mode(\"overwrite\").saveAsTable(tbl_promedio)"
   ]
  },
  {
   "cell_type": "code",
   "execution_count": 0,
   "metadata": {
    "application/vnd.databricks.v1+cell": {
     "cellMetadata": {
      "byteLimit": 2048000,
      "rowLimit": 10000
     },
     "inputWidgets": {},
     "nuid": "0b117f88-5d97-4992-9def-508808bd6be2",
     "showTitle": false,
     "tableResultSettingsMap": {},
     "title": ""
    }
   },
   "outputs": [],
   "source": [
    "df_categoria_ventas.write.format(\"delta\").mode(\"overwrite\").saveAsTable(tbl_categoria)"
   ]
  },
  {
   "cell_type": "code",
   "execution_count": 0,
   "metadata": {
    "application/vnd.databricks.v1+cell": {
     "cellMetadata": {
      "byteLimit": 2048000,
      "implicitDf": true,
      "rowLimit": 10000
     },
     "inputWidgets": {},
     "nuid": "acbe5c11-c72c-441b-b434-5f7a89088186",
     "showTitle": false,
     "tableResultSettingsMap": {},
     "title": ""
    }
   },
   "outputs": [],
   "source": [
    "%sql\n",
    "select * from dmc.gold_farmacias.ventas_detalle"
   ]
  },
  {
   "cell_type": "code",
   "execution_count": 0,
   "metadata": {
    "application/vnd.databricks.v1+cell": {
     "cellMetadata": {
      "byteLimit": 2048000,
      "implicitDf": true,
      "rowLimit": 10000
     },
     "inputWidgets": {},
     "nuid": "6f4f3cf4-d44d-403d-b117-6daa5904c350",
     "showTitle": false,
     "tableResultSettingsMap": {},
     "title": ""
    }
   },
   "outputs": [],
   "source": [
    "%sql\n",
    "select * from dmc.gold_farmacias.ventas_ciudad_anio"
   ]
  },
  {
   "cell_type": "code",
   "execution_count": 0,
   "metadata": {
    "application/vnd.databricks.v1+cell": {
     "cellMetadata": {
      "byteLimit": 2048000,
      "implicitDf": true,
      "rowLimit": 10000
     },
     "inputWidgets": {},
     "nuid": "090f11c3-f16f-4704-bfdf-4db2c259882a",
     "showTitle": false,
     "tableResultSettingsMap": {},
     "title": ""
    }
   },
   "outputs": [],
   "source": [
    "%sql\n",
    "select * from dmc.gold_farmacias.ventas_promedio"
   ]
  },
  {
   "cell_type": "code",
   "execution_count": 0,
   "metadata": {
    "application/vnd.databricks.v1+cell": {
     "cellMetadata": {
      "byteLimit": 2048000,
      "implicitDf": true,
      "rowLimit": 10000
     },
     "inputWidgets": {},
     "nuid": "13c13259-b0aa-42e6-83bc-8eee7caf0d0c",
     "showTitle": false,
     "tableResultSettingsMap": {},
     "title": ""
    }
   },
   "outputs": [],
   "source": [
    "%sql\n",
    "select * from dmc.gold_farmacias.ventas_categoria"
   ]
  }
 ],
 "metadata": {
  "application/vnd.databricks.v1+notebook": {
   "computePreferences": {
    "hardware": {
     "accelerator": null,
     "gpuPoolId": null,
     "memory": null
    }
   },
   "dashboards": [],
   "environmentMetadata": {
    "base_environment": "",
    "environment_version": "2"
   },
   "inputWidgetPreferences": null,
   "language": "python",
   "notebookMetadata": {
    "mostRecentlyExecutedCommandWithImplicitDF": {
     "commandId": 7499720447544811,
     "dataframes": [
      "_sqldf"
     ]
    },
    "pythonIndentUnit": 4
   },
   "notebookName": "XXXXX",
   "widgets": {}
  },
  "language_info": {
   "name": "python"
  }
 },
 "nbformat": 4,
 "nbformat_minor": 0
}
